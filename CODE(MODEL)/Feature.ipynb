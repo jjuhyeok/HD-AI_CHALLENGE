{
 "cells": [
  {
   "cell_type": "markdown",
   "id": "22d776a4-2a7d-40f3-b279-8bd599ebaebb",
   "metadata": {},
   "source": [
    "# Import"
   ]
  },
  {
   "cell_type": "code",
   "execution_count": 1,
   "id": "225c2f5a-7bce-4ea5-80cf-5030b6245fce",
   "metadata": {},
   "outputs": [],
   "source": [
    "import pandas as pd\n",
    "import numpy as np\n",
    "\n",
    "from tqdm import tqdm\n",
    "import math\n",
    "import matplotlib.pyplot as plt\n",
    "\n",
    "from sklearn.decomposition import PCA\n",
    "from sklearn.preprocessing import StandardScaler\n",
    "from sklearn.preprocessing import LabelEncoder\n",
    "\n",
    "from sklearn.preprocessing import MinMaxScaler\n",
    "from sklearn.cluster import KMeans\n",
    "from yellowbrick.cluster import KElbowVisualizer"
   ]
  },
  {
   "cell_type": "markdown",
   "id": "6d28b3ee-ecdd-4dd2-b183-8712750d803b",
   "metadata": {},
   "source": [
    "# Data Load"
   ]
  },
  {
   "cell_type": "code",
   "execution_count": 2,
   "id": "47f6ead1-2ad4-45a9-9635-47e3844a4e21",
   "metadata": {},
   "outputs": [],
   "source": [
    "train = pd.read_csv('train.csv').drop(columns=['SAMPLE_ID'])\n",
    "test = pd.read_csv('test.csv').drop(columns=['SAMPLE_ID'])"
   ]
  },
  {
   "cell_type": "markdown",
   "id": "9d2a6dab-3b3b-4ce0-ace0-47e734968437",
   "metadata": {},
   "source": [
    "# Data Pre-processing"
   ]
  },
  {
   "cell_type": "code",
   "execution_count": 3,
   "id": "4ddbed3b-7c92-4ba4-917f-9d4d973afb25",
   "metadata": {},
   "outputs": [],
   "source": [
    "# datetime 컬럼 처리\n",
    "train['ATA'] = pd.to_datetime(train['ATA'])\n",
    "test['ATA'] = pd.to_datetime(test['ATA'])"
   ]
  },
  {
   "cell_type": "code",
   "execution_count": 4,
   "id": "79953469-6c30-411d-a11f-cafbbf4a6480",
   "metadata": {},
   "outputs": [],
   "source": [
    "# datetime을 여러 파생 변수로 변환\n",
    "for df in [train, test]:\n",
    "    df['year'] = df['ATA'].dt.year\n",
    "    df['month'] = df['ATA'].dt.month\n",
    "    df['day'] = df['ATA'].dt.day\n",
    "    df['hour'] = df['ATA'].dt.hour\n",
    "    df['minute'] = df['ATA'].dt.minute\n",
    "    df['weekday'] = df['ATA'].dt.weekday"
   ]
  },
  {
   "cell_type": "code",
   "execution_count": 5,
   "id": "fa46697d-cffa-40c1-b5c9-10be0d8e7304",
   "metadata": {},
   "outputs": [
    {
     "name": "stderr",
     "output_type": "stream",
     "text": [
      "Encoding features: 100%|██████████| 6/6 [00:09<00:00,  1.59s/it]\n"
     ]
    }
   ],
   "source": [
    "# Categorical 컬럼 인코딩\n",
    "categorical_features = ['ARI_CO', 'ARI_PO', 'SHIP_TYPE_CATEGORY', 'ID', 'SHIPMANAGER', 'FLAG']\n",
    "\n",
    "\n",
    "for feature in tqdm(categorical_features, desc=\"Encoding features\"):\n",
    "    encoder = LabelEncoder()\n",
    "    train[feature] = encoder.fit_transform(train[feature])\n",
    "    for label in np.unique(test[feature]):\n",
    "        if label not in encoder.classes_:\n",
    "            encoder.classes_ = np.append(encoder.classes_, label)\n",
    "    test[feature] = encoder.transform(test[feature])"
   ]
  },
  {
   "cell_type": "code",
   "execution_count": 6,
   "id": "368a29b7-b477-4260-ad8d-29fd3af962b5",
   "metadata": {},
   "outputs": [
    {
     "name": "stderr",
     "output_type": "stream",
     "text": [
      "C:\\Users\\USER\\AppData\\Local\\Temp\\ipykernel_5756\\3687844134.py:2: FutureWarning: DataFrame.mean and DataFrame.median with numeric_only=None will include datetime64 and datetime64tz columns in a future version.\n",
      "  train.fillna(train.mean(), inplace=True)\n",
      "C:\\Users\\USER\\AppData\\Local\\Temp\\ipykernel_5756\\3687844134.py:3: FutureWarning: DataFrame.mean and DataFrame.median with numeric_only=None will include datetime64 and datetime64tz columns in a future version.\n",
      "  test.fillna(train.mean(), inplace=True)\n"
     ]
    }
   ],
   "source": [
    "# 결측치 처리\n",
    "train.fillna(train.mean(), inplace=True)\n",
    "test.fillna(train.mean(), inplace=True)"
   ]
  },
  {
   "cell_type": "markdown",
   "id": "e40340b1-4e92-4cab-8f16-550f769b0dc1",
   "metadata": {},
   "source": [
    "# Data Generation"
   ]
  },
  {
   "cell_type": "code",
   "execution_count": 7,
   "id": "4cf752b9-9135-4f80-a6e2-16d01b9a6837",
   "metadata": {},
   "outputs": [],
   "source": [
    "# ATA_LT SIN-COS\n",
    "train['COS_ATA_LT'] = np.cos(2*np.pi*(train.ATA_LT/24))\n",
    "train['SIN_ATA_LT'] = np.sin(2*np.pi*(train.ATA_LT/24))\n",
    "\n",
    "test['COS_ATA_LT'] = np.cos(2*np.pi*(test.ATA_LT/24))\n",
    "test['SIN_ATA_LT'] = np.sin(2*np.pi*(test.ATA_LT/24))"
   ]
  },
  {
   "cell_type": "code",
   "execution_count": 8,
   "id": "55e08930-5ca4-4b80-8d45-618dc405ea87",
   "metadata": {},
   "outputs": [],
   "source": [
    "# round_hour\n",
    "train['rounded_hour'] = (train['ATA'].dt.hour + (train['ATA'].dt.minute // 30)).apply(lambda x: 0 if x == 24 else x)\n",
    "test['rounded_hour'] = (test['ATA'].dt.hour + (test['ATA'].dt.minute // 30)).apply(lambda x: 0 if x == 24 else x)"
   ]
  },
  {
   "cell_type": "code",
   "execution_count": 9,
   "id": "777f41eb-286c-4241-a739-7bdc653750f3",
   "metadata": {},
   "outputs": [],
   "source": [
    "# Date SIN-COS\n",
    "# sin, cos 변환 함수 정의\n",
    "def encode_cyclic_feature(data, column, max_val):\n",
    "    data[column + '_sin'] = np.sin(2 * np.pi * data[column] / max_val)\n",
    "    data[column + '_cos'] = np.cos(2 * np.pi * data[column] / max_val)\n",
    "    return data\n",
    "\n",
    "# 각 피처에 대해 sin, cos 변환 수행\n",
    "train = encode_cyclic_feature(train, 'month', 12)\n",
    "train = encode_cyclic_feature(train, 'day', 31)\n",
    "train = encode_cyclic_feature(train, 'weekday', 7)\n",
    "train = encode_cyclic_feature(train, 'rounded_hour', 24)\n",
    "test = encode_cyclic_feature(test, 'month', 12)\n",
    "test = encode_cyclic_feature(test, 'day', 31)\n",
    "test = encode_cyclic_feature(test, 'weekday', 7)\n",
    "test = encode_cyclic_feature(test, 'rounded_hour', 24)\n",
    "\n",
    "train.drop(['ATA'],axis=1,inplace=True)\n",
    "test.drop(['ATA'],axis=1,inplace=True)"
   ]
  },
  {
   "cell_type": "code",
   "execution_count": 10,
   "id": "5b45aea4-04e9-4091-8f4f-d6e677e2bc18",
   "metadata": {},
   "outputs": [],
   "source": [
    "# Ship info category\n",
    "\n",
    "ship_info = ['SHIP_TYPE_CATEGORY','BREADTH','BUILT','DEADWEIGHT','DEPTH','DRAUGHT','GT','LENGTH','FLAG']\n",
    "\n",
    "train_data = train[ship_info]\n",
    "test_data = test[ship_info]\n",
    "\n",
    "scaler = MinMaxScaler()\n",
    "train_data_scale = scaler.fit_transform(train_data)\n",
    "test_data_scale = scaler.transform(test_data)\n",
    "\n",
    "#model = KMeans()\n",
    "#visualizer = KElbowVisualizer(model, k=(1,10))\n",
    "#visualizer.fit(train_data_scale)"
   ]
  },
  {
   "cell_type": "code",
   "execution_count": 11,
   "id": "a0d14ef9-7f82-4961-aab4-ef7a10509658",
   "metadata": {},
   "outputs": [],
   "source": [
    "k = 4\n",
    "\n",
    "# 그룹 수, random_state 설정\n",
    "model = KMeans(n_clusters = k, random_state = 10)\n",
    "\n",
    "# 정규화된 데이터에 학습\n",
    "model.fit(train_data_scale)\n",
    "\n",
    "# 클러스터링 결과 각 데이터가 몇 번째 그룹에 속하는지 저장\n",
    "train['ship_cluster'] = model.fit_predict(train_data_scale)\n",
    "test['ship_cluster'] = model.predict(test_data_scale)"
   ]
  },
  {
   "cell_type": "markdown",
   "id": "aeea1664-451e-491d-83fa-e6ac4533220f",
   "metadata": {},
   "source": [
    "# Info"
   ]
  },
  {
   "cell_type": "code",
   "execution_count": 12,
   "id": "907e4721-53f4-4393-9e06-3702e381a883",
   "metadata": {},
   "outputs": [],
   "source": [
    "trian_target = train['CI_HOUR']\n",
    "train.drop(['CI_HOUR'],axis=1,inplace=True)\n",
    "train['CI_HOUR'] = trian_target"
   ]
  },
  {
   "cell_type": "markdown",
   "id": "c3f1b230-9ede-4efb-9d09-897b527f8104",
   "metadata": {},
   "source": [
    "# CSV"
   ]
  },
  {
   "cell_type": "code",
   "execution_count": 14,
   "id": "d6e6e8fc-f806-44d0-98f3-acd4cad7e4c2",
   "metadata": {},
   "outputs": [],
   "source": [
    "train.to_csv('train_merge_new_fillna.csv',index=False)\n",
    "test.to_csv('test_merge_new_fillna.csv',index=False)"
   ]
  },
  {
   "cell_type": "code",
   "execution_count": null,
   "id": "bea63ac8-efc0-42a3-9c7a-6b6f28c5704f",
   "metadata": {},
   "outputs": [],
   "source": []
  }
 ],
 "metadata": {
  "kernelspec": {
   "display_name": "Python 3",
   "language": "python",
   "name": "python3"
  },
  "language_info": {
   "codemirror_mode": {
    "name": "ipython",
    "version": 3
   },
   "file_extension": ".py",
   "mimetype": "text/x-python",
   "name": "python",
   "nbconvert_exporter": "python",
   "pygments_lexer": "ipython3",
   "version": "3.8.6"
  }
 },
 "nbformat": 4,
 "nbformat_minor": 5
}
